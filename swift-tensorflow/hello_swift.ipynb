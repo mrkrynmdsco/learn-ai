{
  "nbformat": 4,
  "nbformat_minor": 0,
  "metadata": {
    "colab": {
      "name": "hello_swift.ipynb",
      "provenance": [],
      "collapsed_sections": []
    },
    "kernelspec": {
      "name": "swift",
      "display_name": "Swift"
    },
    "accelerator": "GPU"
  },
  "cells": [
    {
      "cell_type": "code",
      "metadata": {
        "id": "kZRlD4utdPuX",
        "colab_type": "code",
        "outputId": "32d4a437-5e9c-4bd0-be55-03db42df3af6",
        "colab": {
          "base_uri": "https://localhost:8080/",
          "height": 34
        }
      },
      "source": [
        "print(\"Hello Swift!\")"
      ],
      "execution_count": 1,
      "outputs": [
        {
          "output_type": "stream",
          "text": [
            "Hello Swift!\r\n"
          ],
          "name": "stdout"
        }
      ]
    },
    {
      "cell_type": "code",
      "metadata": {
        "id": "LMAj182U2_cY",
        "colab_type": "code",
        "outputId": "468036f9-0b68-4542-815d-7ca48fac7b56",
        "colab": {
          "base_uri": "https://localhost:8080/",
          "height": 34
        }
      },
      "source": [
        "let c = 6\n",
        "let d = 3\n",
        "var x = c + d\n",
        "print((x + 3) == 12)"
      ],
      "execution_count": 2,
      "outputs": [
        {
          "output_type": "stream",
          "text": [
            "true\r\n"
          ],
          "name": "stdout"
        }
      ]
    },
    {
      "cell_type": "code",
      "metadata": {
        "id": "R9VtVx5E32rp",
        "colab_type": "code",
        "outputId": "6de3088c-da22-48f1-c227-f0c8531a4f95",
        "colab": {
          "base_uri": "https://localhost:8080/",
          "height": 34
        }
      },
      "source": [
        "var y:UInt8\n",
        "y = 0xFF\n",
        "print(y)"
      ],
      "execution_count": 3,
      "outputs": [
        {
          "output_type": "stream",
          "text": [
            "255\r\n"
          ],
          "name": "stdout"
        }
      ]
    },
    {
      "cell_type": "code",
      "metadata": {
        "id": "Jgi1LNZrMfIP",
        "colab_type": "code",
        "colab": {}
      },
      "source": [
        "protocol Human {\n",
        "  var name: String { get }\n",
        "  var gender: String { get }\n",
        "}"
      ],
      "execution_count": 0,
      "outputs": []
    },
    {
      "cell_type": "code",
      "metadata": {
        "id": "f7lPiziGOV5i",
        "colab_type": "code",
        "colab": {}
      },
      "source": [
        "class Parent: Human {\n",
        "  var name: String\n",
        "  var gender: String\n",
        "\n",
        "  init(name: String) {\n",
        "    self.name = name\n",
        "    self.gender = \"Unknown\"\n",
        "  }\n",
        "\n",
        "  func action() -> String {\n",
        "    return \"\\u{1F496}\"\n",
        "  }\n",
        "}"
      ],
      "execution_count": 0,
      "outputs": []
    },
    {
      "cell_type": "code",
      "metadata": {
        "id": "stllxBGHt6Ye",
        "colab_type": "code",
        "colab": {}
      },
      "source": [
        "class Father: Parent {\n",
        "  override init(name: String) {\n",
        "    super.init(name: name)\n",
        "    self.gender = \"Male\"\n",
        "  }\n",
        "}\n",
        "\n",
        "class Mother: Parent {\n",
        "  override init(name: String) {\n",
        "    super.init(name: name)\n",
        "    self.gender = \"Female\"\n",
        "  }\n",
        "}"
      ],
      "execution_count": 0,
      "outputs": []
    },
    {
      "cell_type": "code",
      "metadata": {
        "id": "CwcQuHVejiOG",
        "colab_type": "code",
        "colab": {}
      },
      "source": [
        "var myFather = Father(name: \"Edwin\")\n",
        "var myMother = Mother(name: \"Delia\")"
      ],
      "execution_count": 0,
      "outputs": []
    },
    {
      "cell_type": "code",
      "metadata": {
        "id": "OBFw8iq1tZTe",
        "colab_type": "code",
        "outputId": "aee0e002-3aaf-48e3-ecaf-17cac275d653",
        "colab": {
          "base_uri": "https://localhost:8080/",
          "height": 51
        }
      },
      "source": [
        "print(myFather.name, myFather.action(), myMother.name)\n",
        "print(myMother.name, myMother.action(), myFather.name)"
      ],
      "execution_count": 8,
      "outputs": [
        {
          "output_type": "stream",
          "text": [
            "Edwin 💖 Delia\r\n",
            "Delia 💖 Edwin\r\n"
          ],
          "name": "stdout"
        }
      ]
    },
    {
      "cell_type": "code",
      "metadata": {
        "id": "BtgcmhlK9aqc",
        "colab_type": "code",
        "colab": {}
      },
      "source": [
        "import TensorFlow"
      ],
      "execution_count": 0,
      "outputs": []
    },
    {
      "cell_type": "code",
      "metadata": {
        "id": "VfYrxmOZ9ytC",
        "colab_type": "code",
        "outputId": "60322a1f-c913-4941-b175-0215db652bae",
        "colab": {
          "base_uri": "https://localhost:8080/",
          "height": 34
        }
      },
      "source": [
        "var x = Tensor<UInt8>([1, 2, 3])\n",
        "x"
      ],
      "execution_count": 10,
      "outputs": [
        {
          "output_type": "execute_result",
          "data": {
            "text/plain": [
              "[1, 2, 3]\n"
            ]
          },
          "metadata": {
            "tags": []
          },
          "execution_count": 10
        }
      ]
    },
    {
      "cell_type": "code",
      "metadata": {
        "id": "L46p5VjS99VT",
        "colab_type": "code",
        "outputId": "3071c267-91da-4539-a536-770c73490348",
        "colab": {
          "base_uri": "https://localhost:8080/",
          "height": 51
        }
      },
      "source": [
        "import Python\n",
        "// PythonLibrary.useVersion(3, 7)\n",
        "print(Python.version)"
      ],
      "execution_count": 16,
      "outputs": [
        {
          "output_type": "stream",
          "text": [
            "3.6.8 (default, Oct  7 2019, 12:59:55) \r\n",
            "[GCC 8.3.0]\r\n"
          ],
          "name": "stdout"
        }
      ]
    },
    {
      "cell_type": "code",
      "metadata": {
        "id": "Gb8Px8JtClzl",
        "colab_type": "code",
        "outputId": "b019c911-4915-49d1-b6ef-93760e1075d2",
        "colab": {
          "base_uri": "https://localhost:8080/",
          "height": 34
        }
      },
      "source": [
        "let np = Python.import(\"numpy\")\n",
        "let x = np.array([[1, 2], [3, 4]])\n",
        "let y = np.array([11, 12])\n",
        "print(x.dot(y)) // [35 81]"
      ],
      "execution_count": 12,
      "outputs": [
        {
          "output_type": "stream",
          "text": [
            "[35 81]\r\n"
          ],
          "name": "stdout"
        }
      ]
    },
    {
      "cell_type": "code",
      "metadata": {
        "id": "ja0xo7xpD03L",
        "colab_type": "code",
        "colab": {}
      },
      "source": [
        ""
      ],
      "execution_count": 0,
      "outputs": []
    }
  ]
}